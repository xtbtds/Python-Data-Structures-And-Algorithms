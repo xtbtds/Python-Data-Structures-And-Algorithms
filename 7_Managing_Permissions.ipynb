{
  "nbformat": 4,
  "nbformat_minor": 0,
  "metadata": {
    "colab": {
      "provenance": [],
      "collapsed_sections": [],
      "authorship_tag": "ABX9TyMjvEz8DbyhCg6QMAe7a6E5",
      "include_colab_link": true
    },
    "kernelspec": {
      "name": "python3",
      "display_name": "Python 3"
    },
    "language_info": {
      "name": "python"
    }
  },
  "cells": [
    {
      "cell_type": "markdown",
      "metadata": {
        "id": "view-in-github",
        "colab_type": "text"
      },
      "source": [
        "<a href=\"https://colab.research.google.com/github/xtbtds/Python-Data-Structures-And-Algorithms/blob/main/7_Managing_Permissions.ipynb\" target=\"_parent\"><img src=\"https://colab.research.google.com/assets/colab-badge.svg\" alt=\"Open In Colab\"/></a>"
      ]
    },
    {
      "cell_type": "markdown",
      "source": [
        "- `chown luna filename`\n",
        "- `chown luna:cats filename`\n",
        "- `chgrp cats filename`\n",
        "- `chmod 752 file`\n",
        "- `chmod -x,o+r file` "
      ],
      "metadata": {
        "id": "Zijs2LCjaKiF"
      }
    },
    {
      "cell_type": "markdown",
      "source": [
        "## umask\n",
        "Shell setting.  \n",
        "Default permissions for file are 666, for directory 777.  \n",
        "Umask 022: file 644, dir 755.  \n",
        "- `umask` $ - $ check current\n",
        "- `umask 027`\n",
        "- `/etc/profile`\n",
        "- `~/.bash_profile` $ - $ if user needs a specific umask"
      ],
      "metadata": {
        "id": "zm9hMW-abn-0"
      }
    },
    {
      "cell_type": "markdown",
      "source": [
        "## Special permissions\n",
        "\\begin{array}{|c|c|} \\hline\n",
        " & files & dirs  \\\\ \\hline\n",
        "\\text{suid} & \\text{run as owner} & - \\\\\n",
        "\\text{sgid} & \\text{run as group owner} & \\text{inherit dir group owner} \\\\ \n",
        "\\text{sticky bit} & - & \\text{delete only if owner} \\\\ \\hline\n",
        "\\end{array}\n",
        "- SUID\n",
        "  - `chmod 4770 file`\n",
        "  - `chmod u+s file`\n",
        "- SGID\n",
        "  - `chmod 2770 dir`\n",
        "  - `chmod g+s dir`\n",
        "- Sticky bit\n",
        "  - `chmod 1770 dir`\n",
        "  - `chmod +t dir`"
      ],
      "metadata": {
        "id": "0ENqtVQNc7MQ"
      }
    },
    {
      "cell_type": "markdown",
      "source": [
        "## ACLs\n",
        "Access Control List.  \n",
        "- *normal* ACL applies to existing files only\n",
        "- *default* ACL applies also to new files\n",
        "- `getfacl` $ - $ shows current\n",
        "- `setfacl -R -m g:somegroup:rx /data/groups` $ - $ recursively, modify, groupname, permissions\n",
        "- `setfacl -m d:g:somegroup:rx /data/groups` $ - $ d means default"
      ],
      "metadata": {
        "id": "UzTInAV4h85k"
      }
    },
    {
      "cell_type": "markdown",
      "source": [
        "!click!\n",
        "<!-- 1. .bash_profile, umask 007  \n",
        "2. chmod 3770 students, profs  \n",
        "3. setfacl -m d:g:profs:rx /data/students\n",
        "4. chown anna:students students/ $ - $ headmaster  -->"
      ],
      "metadata": {
        "id": "b7eOIx_vp9O3"
      }
    },
    {
      "cell_type": "markdown",
      "source": [],
      "metadata": {
        "id": "D3CS0rQ7p-NC"
      }
    }
  ]
}